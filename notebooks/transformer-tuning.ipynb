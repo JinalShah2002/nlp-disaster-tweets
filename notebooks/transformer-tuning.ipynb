{
 "cells": [
  {
   "cell_type": "markdown",
   "metadata": {},
   "source": [
    "# Transformer Tuning\n",
    "\n",
    "This notebook is dedicated to tuning the transformer. "
   ]
  },
  {
   "cell_type": "code",
   "execution_count": 1,
   "metadata": {},
   "outputs": [],
   "source": [
    "# Importing libraries and classes\n",
    "import pandas as pd\n",
    "import numpy as np\n",
    "import matplotlib.pyplot as plt\n",
    "import json\n",
    "from sklearn.model_selection import train_test_split\n",
    "from sklearn.metrics import f1_score,accuracy_score,precision_score,recall_score\n",
    "import torch\n",
    "from torch.utils.data import TensorDataset, DataLoader\n",
    "\n",
    "# Adding the source code path to the notebook\n",
    "import sys\n",
    "sys.path.append('/Users/jinalshah/Jinal/Projects/nlp-disaster-tweets/src')\n",
    "\n",
    "from preprocessing import Preprocessing\n",
    "from transformer import Transformer\n",
    "\n",
    "%matplotlib inline"
   ]
  },
  {
   "cell_type": "code",
   "execution_count": 2,
   "metadata": {},
   "outputs": [],
   "source": [
    "# Importing the data\n",
    "raw_train = pd.read_csv('../inputs/train.csv')"
   ]
  },
  {
   "cell_type": "code",
   "execution_count": 3,
   "metadata": {},
   "outputs": [],
   "source": [
    "# Splitting the data into training, validation, and testing\n",
    "training, testing = train_test_split(raw_train,test_size=0.2,random_state=42,shuffle=True,stratify=raw_train['target'])\n",
    "validation, testing = train_test_split(testing,test_size=0.2,random_state=42,shuffle=True,stratify=testing['target'])\n",
    "training.reset_index(drop=True,inplace=True)\n",
    "validation.reset_index(drop=True,inplace=True)\n",
    "testing.reset_index(drop=True,inplace=True)"
   ]
  },
  {
   "cell_type": "code",
   "execution_count": 4,
   "metadata": {},
   "outputs": [],
   "source": [
    "# Splitting data into X & Y\n",
    "train_x = training.drop(['target'],axis=1)\n",
    "train_y = training['target'].values\n",
    "valid_x = validation.drop(['target'],axis=1)\n",
    "valid_y = validation['target'].values"
   ]
  },
  {
   "cell_type": "code",
   "execution_count": 5,
   "metadata": {},
   "outputs": [
    {
     "name": "stderr",
     "output_type": "stream",
     "text": [
      "[nltk_data] Downloading package stopwords to\n",
      "[nltk_data]     /Users/jinalshah/nltk_data...\n",
      "[nltk_data]   Package stopwords is already up-to-date!\n"
     ]
    }
   ],
   "source": [
    "# Getting the preprocessed text\n",
    "preprocessor = Preprocessing()\n",
    "preprocessed_train_x = preprocessor.preprocess_data(train_x)\n",
    "preprocessed_valid_x = preprocessor.preprocess_data(valid_x)"
   ]
  },
  {
   "cell_type": "code",
   "execution_count": 6,
   "metadata": {},
   "outputs": [],
   "source": [
    "# Transforming data to (number of examples, 57, 1000)\n",
    "training_X = []\n",
    "valid_X = []\n",
    "\n",
    "# Opening the vocabulary and marking 1 to indicate the word\n",
    "with open('../mappers/word2index.json') as file:\n",
    "    vocabulary = json.load(file)\n",
    "\n",
    "    # Iterating through the training\n",
    "    for sentence_index in range(0,len(preprocessed_train_x)):\n",
    "        sentence_convert = [1001] * 57\n",
    "        for word_index in range(0,len(preprocessed_train_x[sentence_index])):\n",
    "            # If the word is in the vocab, get the index\n",
    "            word = preprocessed_train_x[sentence_index][word_index]\n",
    "            if word in vocabulary.keys():\n",
    "                sentence_convert[word_index] = vocabulary[word]\n",
    "            else:\n",
    "                sentence_convert[word_index] = 1000\n",
    "        \n",
    "        training_X.append(sentence_convert)\n",
    "    \n",
    "    # Iterating through the validation\n",
    "    for sentence_index in range(0,len(preprocessed_valid_x)):\n",
    "        sentence_convert = [1001] * 57\n",
    "        for word_index in range(0,len(preprocessed_valid_x[sentence_index])):\n",
    "            # If the word is in the vocab, get the index\n",
    "            word = preprocessed_valid_x[sentence_index][word_index]\n",
    "            if word in vocabulary.keys():\n",
    "                sentence_convert[word_index] = vocabulary[word]\n",
    "            else:\n",
    "                sentence_convert[word_index] = 1000\n",
    "\n",
    "        valid_X.append(sentence_convert)\n",
    "\n",
    "train_X = torch.from_numpy(np.array(training_X))\n",
    "valid_X = torch.from_numpy(np.array(valid_X))\n",
    "train_y = torch.from_numpy(train_y)\n",
    "valid_y = torch.from_numpy(valid_y)"
   ]
  },
  {
   "cell_type": "code",
   "execution_count": 7,
   "metadata": {},
   "outputs": [],
   "source": [
    "training_dataset = TensorDataset(train_X,train_y)\n",
    "validation_dataset = TensorDataset(valid_X,valid_y)\n",
    "\n",
    "# Storing the training and validation data in DataLoaders\n",
    "training_loader = DataLoader(training_dataset,batch_size=64,shuffle=True)\n",
    "validation_loader = DataLoader(validation_dataset,batch_size=64,shuffle=True)"
   ]
  },
  {
   "cell_type": "code",
   "execution_count": 8,
   "metadata": {},
   "outputs": [],
   "source": [
    "# Creating an array for the model metrics\n",
    "training_metrics = []\n",
    "validation_metrics = []\n",
    "\n",
    "# Creating a function that returns the metrics\n",
    "def get_metrics(truth,predictions):\n",
    "    f1 = f1_score(truth,predictions)\n",
    "    precision = precision_score(truth,predictions)\n",
    "    recall = recall_score(truth,predictions)\n",
    "    accuracy = accuracy_score(truth,predictions)\n",
    "    return f1, precision, recall, accuracy"
   ]
  },
  {
   "cell_type": "code",
   "execution_count": 9,
   "metadata": {},
   "outputs": [],
   "source": [
    "# A function for the training loop\n",
    "def training_loop(model,loss_fn,optimizer,training_data):\n",
    "    size = len(training_data.dataset)\n",
    "    model.train() # Setting the model to training mode\n",
    "\n",
    "    # Iterating through the batches\n",
    "    for batch , (X,y) in enumerate(training_data):\n",
    "        # Compute the predictions\n",
    "        pred = model(X)\n",
    "\n",
    "        # Calculate the loss\n",
    "        loss = loss_fn(pred,y)\n",
    "\n",
    "        # Calculate the derivatives (backpropagation)\n",
    "        loss.backward()\n",
    "\n",
    "        # Take a step with the optimizer\n",
    "        optimizer.step()\n",
    "\n",
    "        # Reset the gradients\n",
    "        optimizer.zero_grad()\n",
    "\n",
    "        # Printing out the progress for every 20 batches\n",
    "        if batch % 20 == 0:\n",
    "            loss, current = loss.item(), (batch+1) * len(X)\n",
    "            print(f'loss :{loss} {round(current/size,2)*100}% Complete')"
   ]
  },
  {
   "cell_type": "code",
   "execution_count": 10,
   "metadata": {},
   "outputs": [],
   "source": [
    "def predict(model, data):\n",
    "    \"\"\"\n",
    "    predict\n",
    "\n",
    "    Function to make the predictions\n",
    "\n",
    "    inputs:\n",
    "    - model: PyTorch model\n",
    "    - data: a PyTorch dataloader\n",
    "\n",
    "    Returns:\n",
    "    - average_loss: Average loss per example in the dataset\n",
    "    \"\"\"\n",
    "    model.eval()  # Set the model to evaluation mode\n",
    "    predictions = []\n",
    "    truth = []\n",
    "\n",
    "    with torch.no_grad(): # Setting torch to no grad so that the PyTorch doesn't calculate gradients\n",
    "        for X, y in data:\n",
    "            preds = model(X)  # Forward pass\n",
    "            predictions.extend(preds.numpy())\n",
    "            truth.extend(y.numpy())\n",
    "    return np.array(predictions), np.array(truth)"
   ]
  },
  {
   "cell_type": "code",
   "execution_count": 50,
   "metadata": {},
   "outputs": [
    {
     "data": {
      "text/plain": [
       "Transformer(\n",
       "  (embedding): Embedding(1002, 204)\n",
       "  (attention): MultiheadAttention(\n",
       "    (out_proj): NonDynamicallyQuantizableLinear(in_features=204, out_features=204, bias=True)\n",
       "  )\n",
       "  (layernorm1): LayerNorm((204,), eps=1e-05, elementwise_affine=True)\n",
       "  (atten_output): Linear(in_features=204, out_features=204, bias=True)\n",
       "  (final_atten_output): Linear(in_features=204, out_features=204, bias=True)\n",
       "  (layernorm2): LayerNorm((204,), eps=1e-05, elementwise_affine=True)\n",
       "  (clf_output_one): Linear(in_features=204, out_features=50, bias=True)\n",
       "  (output): Linear(in_features=50, out_features=2, bias=True)\n",
       "  (dropout): Dropout(p=0.4, inplace=False)\n",
       ")"
      ]
     },
     "execution_count": 50,
     "metadata": {},
     "output_type": "execute_result"
    }
   ],
   "source": [
    "# Training the model\n",
    "model = Transformer(embed_dim=204,heads=4,dropout_rate=0.4)\n",
    "epochs = 30\n",
    "optimizer = torch.optim.Adam(model.parameters(),lr=0.001)\n",
    "loss_function = torch.nn.CrossEntropyLoss()\n",
    "train_history = []\n",
    "valid_history = []\n",
    "f1_train = []\n",
    "f1_valid = []\n",
    "\n",
    "# Printing out the model\n",
    "model"
   ]
  },
  {
   "cell_type": "code",
   "execution_count": 51,
   "metadata": {},
   "outputs": [
    {
     "name": "stdout",
     "output_type": "stream",
     "text": [
      "Epoch 1\n",
      "-------------------------------\n",
      "loss :0.6934975385665894 1.0% Complete\n",
      "loss :0.6908199191093445 22.0% Complete\n",
      "loss :0.6821685433387756 43.0% Complete\n",
      "loss :0.669417142868042 64.0% Complete\n",
      "loss :0.6869151592254639 85.0% Complete\n",
      "\n",
      "Epoch 2\n",
      "-------------------------------\n",
      "loss :0.6812699437141418 1.0% Complete\n",
      "loss :0.6924908757209778 22.0% Complete\n",
      "loss :0.6801609396934509 43.0% Complete\n",
      "loss :0.6807384490966797 64.0% Complete\n",
      "loss :0.6498855352401733 85.0% Complete\n",
      "\n",
      "Epoch 3\n",
      "-------------------------------\n",
      "loss :0.6839757561683655 1.0% Complete\n",
      "loss :0.6565674543380737 22.0% Complete\n",
      "loss :0.6493591666221619 43.0% Complete\n",
      "loss :0.6238529086112976 64.0% Complete\n",
      "loss :0.6912687420845032 85.0% Complete\n",
      "\n",
      "Epoch 4\n",
      "-------------------------------\n",
      "loss :0.7039644122123718 1.0% Complete\n",
      "loss :0.6717112064361572 22.0% Complete\n",
      "loss :0.6552526354789734 43.0% Complete\n",
      "loss :0.6605238914489746 64.0% Complete\n",
      "loss :0.6700595021247864 85.0% Complete\n",
      "\n",
      "Epoch 5\n",
      "-------------------------------\n",
      "loss :0.6245399117469788 1.0% Complete\n",
      "loss :0.6159490346908569 22.0% Complete\n",
      "loss :0.6340555548667908 43.0% Complete\n",
      "loss :0.6492736339569092 64.0% Complete\n",
      "loss :0.6624178886413574 85.0% Complete\n",
      "\n",
      "Epoch 6\n",
      "-------------------------------\n",
      "loss :0.6718467473983765 1.0% Complete\n",
      "loss :0.6172191500663757 22.0% Complete\n",
      "loss :0.6943365335464478 43.0% Complete\n",
      "loss :0.6674832701683044 64.0% Complete\n",
      "loss :0.6536586880683899 85.0% Complete\n",
      "\n",
      "Epoch 7\n",
      "-------------------------------\n",
      "loss :0.6382414698600769 1.0% Complete\n",
      "loss :0.6502070426940918 22.0% Complete\n",
      "loss :0.6447112560272217 43.0% Complete\n",
      "loss :0.6229884624481201 64.0% Complete\n",
      "loss :0.6615418195724487 85.0% Complete\n",
      "\n",
      "Epoch 8\n",
      "-------------------------------\n",
      "loss :0.6554837226867676 1.0% Complete\n",
      "loss :0.6464804410934448 22.0% Complete\n",
      "loss :0.6534305214881897 43.0% Complete\n",
      "loss :0.6844998598098755 64.0% Complete\n",
      "loss :0.6410162448883057 85.0% Complete\n",
      "\n",
      "Epoch 9\n",
      "-------------------------------\n",
      "loss :0.6085614562034607 1.0% Complete\n",
      "loss :0.6814320683479309 22.0% Complete\n",
      "loss :0.6225141286849976 43.0% Complete\n",
      "loss :0.6075664162635803 64.0% Complete\n",
      "loss :0.5851424932479858 85.0% Complete\n",
      "\n",
      "Epoch 10\n",
      "-------------------------------\n",
      "loss :0.631872296333313 1.0% Complete\n",
      "loss :0.6295028328895569 22.0% Complete\n",
      "loss :0.639405369758606 43.0% Complete\n",
      "loss :0.5764892101287842 64.0% Complete\n",
      "loss :0.6797434091567993 85.0% Complete\n",
      "\n",
      "Epoch 11\n",
      "-------------------------------\n",
      "loss :0.658515453338623 1.0% Complete\n",
      "loss :0.6033812761306763 22.0% Complete\n",
      "loss :0.5931298732757568 43.0% Complete\n",
      "loss :0.5927276015281677 64.0% Complete\n",
      "loss :0.5902462601661682 85.0% Complete\n",
      "\n",
      "Epoch 12\n",
      "-------------------------------\n",
      "loss :0.6267876029014587 1.0% Complete\n",
      "loss :0.6039592623710632 22.0% Complete\n",
      "loss :0.6182283759117126 43.0% Complete\n",
      "loss :0.5668854117393494 64.0% Complete\n",
      "loss :0.6656249761581421 85.0% Complete\n",
      "\n",
      "Epoch 13\n",
      "-------------------------------\n",
      "loss :0.5668413043022156 1.0% Complete\n",
      "loss :0.5486289858818054 22.0% Complete\n",
      "loss :0.5656314492225647 43.0% Complete\n",
      "loss :0.6044377684593201 64.0% Complete\n",
      "loss :0.521772563457489 85.0% Complete\n",
      "\n",
      "Epoch 14\n",
      "-------------------------------\n",
      "loss :0.5339809060096741 1.0% Complete\n",
      "loss :0.5616811513900757 22.0% Complete\n",
      "loss :0.6053405404090881 43.0% Complete\n",
      "loss :0.5588573217391968 64.0% Complete\n",
      "loss :0.5543621182441711 85.0% Complete\n",
      "\n",
      "Epoch 15\n",
      "-------------------------------\n",
      "loss :0.5179433226585388 1.0% Complete\n",
      "loss :0.5010217428207397 22.0% Complete\n",
      "loss :0.5048713684082031 43.0% Complete\n",
      "loss :0.44365543127059937 64.0% Complete\n",
      "loss :0.5347226858139038 85.0% Complete\n",
      "\n",
      "Epoch 16\n",
      "-------------------------------\n",
      "loss :0.5447640419006348 1.0% Complete\n",
      "loss :0.5572250485420227 22.0% Complete\n",
      "loss :0.5810235142707825 43.0% Complete\n",
      "loss :0.5198214650154114 64.0% Complete\n",
      "loss :0.5816316604614258 85.0% Complete\n",
      "\n",
      "Epoch 17\n",
      "-------------------------------\n",
      "loss :0.4732244908809662 1.0% Complete\n",
      "loss :0.5924038290977478 22.0% Complete\n",
      "loss :0.48846304416656494 43.0% Complete\n",
      "loss :0.5411247611045837 64.0% Complete\n",
      "loss :0.5522451400756836 85.0% Complete\n",
      "\n",
      "Epoch 18\n",
      "-------------------------------\n",
      "loss :0.6075572967529297 1.0% Complete\n",
      "loss :0.5494726300239563 22.0% Complete\n",
      "loss :0.4833872616291046 43.0% Complete\n",
      "loss :0.5531957745552063 64.0% Complete\n",
      "loss :0.5341387391090393 85.0% Complete\n",
      "\n",
      "Epoch 19\n",
      "-------------------------------\n",
      "loss :0.5427142977714539 1.0% Complete\n",
      "loss :0.49900615215301514 22.0% Complete\n",
      "loss :0.46580877900123596 43.0% Complete\n",
      "loss :0.5833609700202942 64.0% Complete\n",
      "loss :0.49695315957069397 85.0% Complete\n",
      "\n",
      "Epoch 20\n",
      "-------------------------------\n",
      "loss :0.5365046858787537 1.0% Complete\n",
      "loss :0.5586469769477844 22.0% Complete\n",
      "loss :0.5698225498199463 43.0% Complete\n",
      "loss :0.5150360465049744 64.0% Complete\n",
      "loss :0.5966428518295288 85.0% Complete\n",
      "\n",
      "Epoch 21\n",
      "-------------------------------\n",
      "loss :0.5094239115715027 1.0% Complete\n",
      "loss :0.5215153694152832 22.0% Complete\n",
      "loss :0.48559805750846863 43.0% Complete\n",
      "loss :0.5140371918678284 64.0% Complete\n",
      "loss :0.503607451915741 85.0% Complete\n",
      "\n",
      "Epoch 22\n",
      "-------------------------------\n",
      "loss :0.45916321873664856 1.0% Complete\n",
      "loss :0.5740802884101868 22.0% Complete\n",
      "loss :0.4838590919971466 43.0% Complete\n",
      "loss :0.449771523475647 64.0% Complete\n",
      "loss :0.5348330736160278 85.0% Complete\n",
      "\n",
      "Epoch 23\n",
      "-------------------------------\n",
      "loss :0.45201870799064636 1.0% Complete\n",
      "loss :0.47378015518188477 22.0% Complete\n",
      "loss :0.5250457525253296 43.0% Complete\n",
      "loss :0.5067854523658752 64.0% Complete\n",
      "loss :0.5375586152076721 85.0% Complete\n",
      "\n",
      "Epoch 24\n",
      "-------------------------------\n",
      "loss :0.5434195399284363 1.0% Complete\n",
      "loss :0.6424967646598816 22.0% Complete\n",
      "loss :0.5203694701194763 43.0% Complete\n",
      "loss :0.42130622267723083 64.0% Complete\n",
      "loss :0.5605976581573486 85.0% Complete\n",
      "\n",
      "Epoch 25\n",
      "-------------------------------\n",
      "loss :0.5542082786560059 1.0% Complete\n",
      "loss :0.5145924687385559 22.0% Complete\n",
      "loss :0.46444985270500183 43.0% Complete\n",
      "loss :0.5699158310890198 64.0% Complete\n",
      "loss :0.5384195446968079 85.0% Complete\n",
      "\n",
      "Epoch 26\n",
      "-------------------------------\n",
      "loss :0.47522416710853577 1.0% Complete\n",
      "loss :0.4726092517375946 22.0% Complete\n",
      "loss :0.5609001517295837 43.0% Complete\n",
      "loss :0.5332918167114258 64.0% Complete\n",
      "loss :0.4574533700942993 85.0% Complete\n",
      "\n",
      "Epoch 27\n",
      "-------------------------------\n",
      "loss :0.576337993144989 1.0% Complete\n",
      "loss :0.6471021175384521 22.0% Complete\n",
      "loss :0.4916994571685791 43.0% Complete\n",
      "loss :0.4531281590461731 64.0% Complete\n",
      "loss :0.4555564820766449 85.0% Complete\n",
      "\n",
      "Epoch 28\n",
      "-------------------------------\n",
      "loss :0.4872709810733795 1.0% Complete\n",
      "loss :0.618963897228241 22.0% Complete\n",
      "loss :0.5924240350723267 43.0% Complete\n",
      "loss :0.48209667205810547 64.0% Complete\n",
      "loss :0.4776206314563751 85.0% Complete\n",
      "\n",
      "Epoch 29\n",
      "-------------------------------\n",
      "loss :0.5443472266197205 1.0% Complete\n",
      "loss :0.4674498736858368 22.0% Complete\n",
      "loss :0.6665143966674805 43.0% Complete\n",
      "loss :0.43217459321022034 64.0% Complete\n",
      "loss :0.4865809381008148 85.0% Complete\n",
      "\n",
      "Epoch 30\n",
      "-------------------------------\n",
      "loss :0.5248012542724609 1.0% Complete\n",
      "loss :0.4436686038970947 22.0% Complete\n",
      "loss :0.5069294571876526 43.0% Complete\n",
      "loss :0.47477105259895325 64.0% Complete\n",
      "loss :0.5410481691360474 85.0% Complete\n",
      "\n"
     ]
    }
   ],
   "source": [
    "# Training the model\n",
    "for epoch in range(epochs):\n",
    "    print(f'Epoch {epoch + 1}\\n-------------------------------')\n",
    "    training_loop(model,loss_function,optimizer,training_loader)\n",
    "    training_pred, truth = predict(model,training_loader)\n",
    "    loss = loss_function(torch.from_numpy(training_pred),torch.from_numpy(truth))\n",
    "    train_history.append(loss.item())\n",
    "    f1_training = f1_score(truth,np.argmax(training_pred,axis=1),zero_division=0.0)\n",
    "    f1_train.append(f1_training)\n",
    "\n",
    "    # Validation portion\n",
    "    valid_pred, truth = predict(model,validation_loader)\n",
    "    loss = loss_function(torch.from_numpy(valid_pred),torch.from_numpy(truth))\n",
    "    valid_history.append(loss.item())\n",
    "    f1_validation = f1_score(truth,np.argmax(valid_pred,axis=1),zero_division=0.0)\n",
    "    f1_valid.append(f1_validation)\n",
    "    print()"
   ]
  },
  {
   "cell_type": "code",
   "execution_count": 52,
   "metadata": {},
   "outputs": [],
   "source": [
    "training_predictions, y_true = predict(model,training_loader)\n",
    "validation_predictions, y_val = predict(model,validation_loader)\n",
    "train_metrics = get_metrics(y_true,np.argmax(training_predictions,axis=1))\n",
    "valid_metrics = get_metrics(y_val,np.argmax(validation_predictions,axis=1))\n",
    "train_metrics_df = {'Name':'Transformer','F1':train_metrics[0],'Precision':train_metrics[1],'Recall':train_metrics[2],'Accuracy':train_metrics[3]}\n",
    "valid_metrics_df = {'Name':'Transformer','F1':valid_metrics[0],'Precision':valid_metrics[1],'Recall':valid_metrics[2],'Accuracy':valid_metrics[3]}"
   ]
  },
  {
   "cell_type": "code",
   "execution_count": 53,
   "metadata": {},
   "outputs": [
    {
     "data": {
      "text/plain": [
       "{'Name': 'Transformer',\n",
       " 'F1': 0.7731337076315243,\n",
       " 'Precision': 0.8480839416058394,\n",
       " 'Recall': 0.7103553687428353,\n",
       " 'Accuracy': 0.8208538587848933}"
      ]
     },
     "execution_count": 53,
     "metadata": {},
     "output_type": "execute_result"
    }
   ],
   "source": [
    "# Viewing training metrics\n",
    "train_metrics_df"
   ]
  },
  {
   "cell_type": "code",
   "execution_count": 54,
   "metadata": {},
   "outputs": [
    {
     "data": {
      "text/plain": [
       "{'Name': 'Transformer',\n",
       " 'F1': 0.7296747967479674,\n",
       " 'Precision': 0.7787418655097614,\n",
       " 'Recall': 0.6864244741873805,\n",
       " 'Accuracy': 0.7816091954022989}"
      ]
     },
     "execution_count": 54,
     "metadata": {},
     "output_type": "execute_result"
    }
   ],
   "source": [
    "# Viewing validation metrics\n",
    "valid_metrics_df"
   ]
  },
  {
   "cell_type": "code",
   "execution_count": 55,
   "metadata": {},
   "outputs": [
    {
     "data": {
      "image/png": "[encoded data removed]",
      "text/plain": [
       "<Figure size 640x480 with 1 Axes>"
      ]
     },
     "metadata": {},
     "output_type": "display_data"
    }
   ],
   "source": [
    "# Plotting the learning curve\n",
    "plt.title('Loss vs. Epochs')\n",
    "plt.plot(train_history,label='Training')\n",
    "plt.plot(valid_history,label='Validation')\n",
    "plt.legend()\n",
    "plt.show()"
   ]
  },
  {
   "cell_type": "code",
   "execution_count": 56,
   "metadata": {},
   "outputs": [
    {
     "data": {
      "image/png": "[encoded data removed]",
      "text/plain": [
       "<Figure size 640x480 with 1 Axes>"
      ]
     },
     "metadata": {},
     "output_type": "display_data"
    }
   ],
   "source": [
    "# Plotting the learning curve\n",
    "plt.title('F1 vs. Epochs')\n",
    "plt.plot(f1_train,label='Training')\n",
    "plt.plot(f1_valid,label='Validation')\n",
    "plt.legend()\n",
    "plt.show()"
   ]
  },
  {
   "cell_type": "code",
   "execution_count": 42,
   "metadata": {},
   "outputs": [],
   "source": [
    "# Saving the model\n",
    "torch.save(model.state_dict(),'../models/transformers200-4-0-4.pt')"
   ]
  }
 ],
 "metadata": {
  "kernelspec": {
   "display_name": "march-madness-mania",
   "language": "python",
   "name": "python3"
  },
  "language_info": {
   "codemirror_mode": {
    "name": "ipython",
    "version": 3
   },
   "file_extension": ".py",
   "mimetype": "text/x-python",
   "name": "python",
   "nbconvert_exporter": "python",
   "pygments_lexer": "ipython3",
   "version": "3.11.5"
  }
 },
 "nbformat": 4,
 "nbformat_minor": 2
}
